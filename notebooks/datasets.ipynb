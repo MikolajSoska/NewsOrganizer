{
 "cells": [
  {
   "cell_type": "markdown",
   "metadata": {
    "collapsed": true,
    "pycharm": {
     "name": "#%% md\n"
    }
   },
   "source": [
    "Notebook used in dataset overview."
   ]
  },
  {
   "cell_type": "code",
   "execution_count": 1,
   "outputs": [],
   "source": [
    "from pathlib import Path\n",
    "from typing import Callable\n",
    "\n",
    "import matplotlib.pyplot as plt\n",
    "import seaborn as sns\n",
    "from nltk.tokenize import sent_tokenize\n",
    "from nltk.tokenize.treebank import TreebankWordDetokenizer\n",
    "\n",
    "from neural.common.data.datasets import DatasetGenerator\n",
    "from utils.database import DatabaseConnector"
   ],
   "metadata": {
    "collapsed": false,
    "pycharm": {
     "name": "#%%\n"
    }
   }
  },
  {
   "cell_type": "code",
   "execution_count": 2,
   "outputs": [],
   "source": [
    "save_path = Path('images/datasets')\n",
    "save_path.mkdir(parents=True, exist_ok=True)\n",
    "sns.set_theme()\n",
    "sns.set_palette('muted')"
   ],
   "metadata": {
    "collapsed": false,
    "pycharm": {
     "name": "#%%\n"
    }
   }
  },
  {
   "cell_type": "code",
   "source": [
    "def all_splits(func: Callable[[str], None]) -> Callable[[], None]:\n",
    "    def wrapper() -> None:\n",
    "        for split in ['train', 'validation', 'test']:\n",
    "            func(split)\n",
    "\n",
    "    return wrapper"
   ],
   "metadata": {
    "collapsed": false,
    "pycharm": {
     "name": "#%%\n"
    }
   },
   "execution_count": 3,
   "outputs": []
  },
  {
   "cell_type": "code",
   "execution_count": 4,
   "outputs": [],
   "source": [
    "def print_entities_examples(dataset_name: str, max_tags: int = 20, skip_sentences: int = 0, entity_type: str = None):\n",
    "    tags_dict = DatabaseConnector().get_tags_dict(dataset_name)\n",
    "    dataset = DatasetGenerator.generate_dataset(dataset_name, 'train')\n",
    "    tags_count = 0\n",
    "    for i, (sentence, tags) in enumerate(dataset):\n",
    "        if i < skip_sentences:\n",
    "            continue\n",
    "        for j, tag in enumerate(tags):\n",
    "            if tag in tags_dict and (entity_type is None or tags_dict[tag][1] == entity_type):\n",
    "                print(sentence[j], tags_dict[tag])\n",
    "                tags_count += 1\n",
    "\n",
    "        if tags_count >= max_tags:\n",
    "            break"
   ],
   "metadata": {
    "collapsed": false,
    "pycharm": {
     "name": "#%%\n"
    }
   }
  },
  {
   "cell_type": "code",
   "execution_count": 5,
   "outputs": [],
   "source": [
    "@all_splits\n",
    "def print_ner_dataset_distribution(split: str) -> None:\n",
    "    detokenizer = TreebankWordDetokenizer()\n",
    "    article_count = 0\n",
    "    sentence_count = 0\n",
    "    tokens_count = 0\n",
    "    for tokens, tags in DatasetGenerator.generate_dataset('gmb', split):\n",
    "        article_count += 1\n",
    "        sentence_count += len(sent_tokenize(detokenizer.detokenize(tokens)))\n",
    "        tokens_count += len(tokens)\n",
    "    print(f'Dataset stats for {split} split:')\n",
    "    print('Article count:', article_count)\n",
    "    print('Sentence count:', sentence_count)\n",
    "    print('Tokens count:', tokens_count)"
   ],
   "metadata": {
    "collapsed": false,
    "pycharm": {
     "name": "#%%\n"
    }
   }
  },
  {
   "cell_type": "code",
   "execution_count": 6,
   "outputs": [],
   "source": [
    "@all_splits\n",
    "def plot_ner_dataset_lengths(split: str) -> None:\n",
    "    conll_tokens_lengths = []\n",
    "    for tokens, tags in DatasetGenerator.generate_dataset('conll2003', split):\n",
    "        conll_tokens_lengths.append(len(tokens))\n",
    "\n",
    "    gmb_tokens_lengths = []\n",
    "    for tokens, tags in DatasetGenerator.generate_dataset('gmb', split):\n",
    "        gmb_tokens_lengths.append(len(tokens))\n",
    "\n",
    "    data = {\n",
    "        'CoNLL-2003': conll_tokens_lengths,\n",
    "        'GMB': gmb_tokens_lengths\n",
    "    }\n",
    "\n",
    "    plt.figure(figsize=(15, 7))\n",
    "    plt.xlim(0, 170)\n",
    "    plt.yscale('log')\n",
    "    plt.xlabel('Data sample length')\n",
    "    plt.ylabel('Number of samples')\n",
    "    plt.title(f'Dataset samples length comparison in {split} split.')\n",
    "    sns.histplot(data, binwidth=2)\n",
    "    plt.savefig(save_path / f'ner_datasets_lengths_{split}.png')\n",
    "    plt.show()"
   ],
   "metadata": {
    "collapsed": false,
    "pycharm": {
     "name": "#%%\n"
    }
   }
  },
  {
   "cell_type": "code",
   "execution_count": 7,
   "outputs": [
    {
     "name": "stderr",
     "output_type": "stream",
     "text": [
      "Reusing dataset conll2003 (C:\\Users\\Miki\\.cache\\huggingface\\datasets\\conll2003\\conll2003\\1.0.0\\40e7cb6bcc374f7c349c83acd1e9352a4f09474eb691f64f364ee62eb65d0ca6)\n"
     ]
    },
    {
     "data": {
      "text/plain": "  0%|          | 0/14041 [00:00<?, ?it/s]",
      "application/vnd.jupyter.widget-view+json": {
       "version_major": 2,
       "version_minor": 0,
       "model_id": "8de75dba99c2436284d9525264ad0c2d"
      }
     },
     "metadata": {},
     "output_type": "display_data"
    },
    {
     "name": "stdout",
     "output_type": "stream",
     "text": [
      "EU ('B-ORG', 'Organizations')\n",
      "German ('B-MISC', 'Miscellaneous')\n",
      "British ('B-MISC', 'Miscellaneous')\n",
      "Peter ('B-PER', 'Persons')\n",
      "Blackburn ('I-PER', 'Persons')\n",
      "BRUSSELS ('B-LOC', 'Locations')\n",
      "European ('B-ORG', 'Organizations')\n",
      "Commission ('I-ORG', 'Organizations')\n",
      "German ('B-MISC', 'Miscellaneous')\n",
      "British ('B-MISC', 'Miscellaneous')\n",
      "Germany ('B-LOC', 'Locations')\n",
      "European ('B-ORG', 'Organizations')\n",
      "Union ('I-ORG', 'Organizations')\n",
      "Werner ('B-PER', 'Persons')\n",
      "Zwingmann ('I-PER', 'Persons')\n",
      "Britain ('B-LOC', 'Locations')\n",
      "Commission ('B-ORG', 'Organizations')\n",
      "Nikolaus ('B-PER', 'Persons')\n",
      "van ('I-PER', 'Persons')\n",
      "der ('I-PER', 'Persons')\n",
      "Pas ('I-PER', 'Persons')\n"
     ]
    }
   ],
   "source": [
    "print_entities_examples('conll2003')"
   ],
   "metadata": {
    "collapsed": false,
    "pycharm": {
     "name": "#%%\n"
    }
   }
  },
  {
   "cell_type": "code",
   "execution_count": 8,
   "outputs": [
    {
     "name": "stdout",
     "output_type": "stream",
     "text": [
      "Reusing downloaded dataset from C:\\Users\\Miki\\.cache\\datasets\\gmb_dataset.\n"
     ]
    },
    {
     "data": {
      "text/plain": "  0%|          | 0/6646 [00:00<?, ?it/s]",
      "application/vnd.jupyter.widget-view+json": {
       "version_major": 2,
       "version_minor": 0,
       "model_id": "7bdc68fb67ec4555b2800a027cd5313e"
      }
     },
     "metadata": {},
     "output_type": "display_data"
    },
    {
     "name": "stdout",
     "output_type": "stream",
     "text": [
      "London ('B-GEO', 'Geographical Entities')\n",
      "Iraq ('B-GEO', 'Geographical Entities')\n",
      "British ('B-GPE', 'Geopolitical Entities')\n",
      "Bush ('B-PER', 'Persons')\n",
      "Hyde ('B-GEO', 'Geographical Entities')\n",
      "Park ('I-GEO', 'Geographical Entities')\n",
      "Britain ('B-GEO', 'Geographical Entities')\n",
      "Labor ('B-ORG', 'Organizations')\n",
      "Party ('I-ORG', 'Organizations')\n",
      "English ('B-GPE', 'Geopolitical Entities')\n",
      "Brighton ('B-GEO', 'Geographical Entities')\n",
      "Britain ('B-GPE', 'Geopolitical Entities')\n",
      "Iraq ('B-GEO', 'Geographical Entities')\n",
      "British ('B-GPE', 'Geopolitical Entities')\n",
      "London ('B-GEO', 'Geographical Entities')\n",
      "Rome ('B-GEO', 'Geographical Entities')\n",
      "Paris ('B-GEO', 'Geographical Entities')\n",
      "Madrid ('B-GEO', 'Geographical Entities')\n",
      "International ('B-ORG', 'Organizations')\n",
      "Atomic ('I-ORG', 'Organizations')\n",
      "Energy ('I-ORG', 'Organizations')\n",
      "Agency ('I-ORG', 'Organizations')\n",
      "Vienna ('B-GEO', 'Geographical Entities')\n",
      "Wednesday ('B-TIM', 'Time indicator')\n",
      "Iran ('B-GPE', 'Geopolitical Entities')\n",
      "Iran ('B-GPE', 'Geopolitical Entities')\n",
      "Isfahan ('B-GEO', 'Geographical Entities')\n",
      "Iranian ('B-GPE', 'Geopolitical Entities')\n",
      "Wednesday ('B-TIM', 'Time indicator')\n",
      "IAEA ('B-ORG', 'Organizations')\n",
      "European ('B-ORG', 'Organizations')\n",
      "Union ('I-ORG', 'Organizations')\n",
      "U.S. ('B-GPE', 'Geopolitical Entities')\n",
      "Iran ('B-GPE', 'Geopolitical Entities')\n",
      "U.N. ('B-ORG', 'Organizations')\n",
      "Security ('I-ORG', 'Organizations')\n",
      "Council ('I-ORG', 'Organizations')\n",
      "Tehran ('B-GPE', 'Geopolitical Entities')\n",
      "Nuclear ('B-ART', 'Artifact')\n",
      "Non-Proliferation ('I-ART', 'Artifact')\n",
      "Iran ('B-GPE', 'Geopolitical Entities')\n",
      "President ('B-PER', 'Persons')\n",
      "Mahmoud ('I-PER', 'Persons')\n",
      "Ahmadinejad ('I-PER', 'Persons')\n",
      "Tuesday ('B-TIM', 'Time indicator')\n",
      "European ('B-GPE', 'Geopolitical Entities')\n",
      "Iran ('B-GPE', 'Geopolitical Entities')\n",
      "Iranian ('B-GPE', 'Geopolitical Entities')\n"
     ]
    }
   ],
   "source": [
    "print_entities_examples('gmb')"
   ],
   "metadata": {
    "collapsed": false,
    "pycharm": {
     "name": "#%%\n"
    }
   }
  },
  {
   "cell_type": "code",
   "execution_count": 9,
   "outputs": [
    {
     "name": "stdout",
     "output_type": "stream",
     "text": [
      "Reusing downloaded dataset from C:\\Users\\Miki\\.cache\\datasets\\gmb_dataset.\n"
     ]
    },
    {
     "data": {
      "text/plain": "  0%|          | 0/6646 [00:00<?, ?it/s]",
      "application/vnd.jupyter.widget-view+json": {
       "version_major": 2,
       "version_minor": 0,
       "model_id": "d25575af873b431e91a5f386b2e8765b"
      }
     },
     "metadata": {},
     "output_type": "display_data"
    },
    {
     "name": "stdout",
     "output_type": "stream",
     "text": [
      "Dataset stats for train split:\n",
      "Article count: 6646\n",
      "Sentence count: 41404\n",
      "Tokens count: 893891\n",
      "Reusing downloaded dataset from C:\\Users\\Miki\\.cache\\datasets\\gmb_dataset.\n"
     ]
    },
    {
     "data": {
      "text/plain": "  0%|          | 0/1173 [00:00<?, ?it/s]",
      "application/vnd.jupyter.widget-view+json": {
       "version_major": 2,
       "version_minor": 0,
       "model_id": "8f331916d1e44519a747da6251da953d"
      }
     },
     "metadata": {},
     "output_type": "display_data"
    },
    {
     "name": "stdout",
     "output_type": "stream",
     "text": [
      "Dataset stats for validation split:\n",
      "Article count: 1173\n",
      "Sentence count: 7267\n",
      "Tokens count: 158203\n",
      "Reusing downloaded dataset from C:\\Users\\Miki\\.cache\\datasets\\gmb_dataset.\n"
     ]
    },
    {
     "data": {
      "text/plain": "  0%|          | 0/1380 [00:00<?, ?it/s]",
      "application/vnd.jupyter.widget-view+json": {
       "version_major": 2,
       "version_minor": 0,
       "model_id": "0f5bb6e820d74025bdf54d6ce94b3423"
      }
     },
     "metadata": {},
     "output_type": "display_data"
    },
    {
     "name": "stdout",
     "output_type": "stream",
     "text": [
      "Dataset stats for test split:\n",
      "Article count: 1380\n",
      "Sentence count: 8564\n",
      "Tokens count: 184844\n"
     ]
    }
   ],
   "source": [
    "print_ner_dataset_distribution()"
   ],
   "metadata": {
    "collapsed": false,
    "pycharm": {
     "name": "#%%\n"
    }
   }
  },
  {
   "cell_type": "code",
   "execution_count": 10,
   "outputs": [
    {
     "name": "stderr",
     "output_type": "stream",
     "text": [
      "Reusing dataset conll2003 (C:\\Users\\Miki\\.cache\\huggingface\\datasets\\conll2003\\conll2003\\1.0.0\\40e7cb6bcc374f7c349c83acd1e9352a4f09474eb691f64f364ee62eb65d0ca6)\n"
     ]
    },
    {
     "data": {
      "text/plain": "  0%|          | 0/14041 [00:00<?, ?it/s]",
      "application/vnd.jupyter.widget-view+json": {
       "version_major": 2,
       "version_minor": 0,
       "model_id": "f2f225010a264a58b6118691d3f66d5a"
      }
     },
     "metadata": {},
     "output_type": "display_data"
    },
    {
     "name": "stdout",
     "output_type": "stream",
     "text": [
      "Reusing downloaded dataset from C:\\Users\\Miki\\.cache\\datasets\\gmb_dataset.\n"
     ]
    },
    {
     "data": {
      "text/plain": "  0%|          | 0/6646 [00:00<?, ?it/s]",
      "application/vnd.jupyter.widget-view+json": {
       "version_major": 2,
       "version_minor": 0,
       "model_id": "a4b4258c8b584e55a232e47205addee3"
      }
     },
     "metadata": {},
     "output_type": "display_data"
    },
    {
     "data": {
      "text/plain": "<Figure size 1080x504 with 1 Axes>",
      "image/png": "[encoded data removed]"
     },
     "metadata": {},
     "output_type": "display_data"
    },
    {
     "name": "stderr",
     "output_type": "stream",
     "text": [
      "Reusing dataset conll2003 (C:\\Users\\Miki\\.cache\\huggingface\\datasets\\conll2003\\conll2003\\1.0.0\\40e7cb6bcc374f7c349c83acd1e9352a4f09474eb691f64f364ee62eb65d0ca6)\n"
     ]
    },
    {
     "data": {
      "text/plain": "  0%|          | 0/3250 [00:00<?, ?it/s]",
      "application/vnd.jupyter.widget-view+json": {
       "version_major": 2,
       "version_minor": 0,
       "model_id": "9506e0f09c9c4bc7ace305d94da8f0f0"
      }
     },
     "metadata": {},
     "output_type": "display_data"
    },
    {
     "name": "stdout",
     "output_type": "stream",
     "text": [
      "Reusing downloaded dataset from C:\\Users\\Miki\\.cache\\datasets\\gmb_dataset.\n"
     ]
    },
    {
     "data": {
      "text/plain": "  0%|          | 0/1173 [00:00<?, ?it/s]",
      "application/vnd.jupyter.widget-view+json": {
       "version_major": 2,
       "version_minor": 0,
       "model_id": "d8ea25043c7b4c3fbc96929e5b1894ca"
      }
     },
     "metadata": {},
     "output_type": "display_data"
    },
    {
     "data": {
      "text/plain": "<Figure size 1080x504 with 1 Axes>",
      "image/png": "[encoded data removed]"
     },
     "metadata": {},
     "output_type": "display_data"
    },
    {
     "name": "stderr",
     "output_type": "stream",
     "text": [
      "Reusing dataset conll2003 (C:\\Users\\Miki\\.cache\\huggingface\\datasets\\conll2003\\conll2003\\1.0.0\\40e7cb6bcc374f7c349c83acd1e9352a4f09474eb691f64f364ee62eb65d0ca6)\n"
     ]
    },
    {
     "data": {
      "text/plain": "  0%|          | 0/3453 [00:00<?, ?it/s]",
      "application/vnd.jupyter.widget-view+json": {
       "version_major": 2,
       "version_minor": 0,
       "model_id": "2dd3a200a0b44c54922859802b4f7018"
      }
     },
     "metadata": {},
     "output_type": "display_data"
    },
    {
     "name": "stdout",
     "output_type": "stream",
     "text": [
      "Reusing downloaded dataset from C:\\Users\\Miki\\.cache\\datasets\\gmb_dataset.\n"
     ]
    },
    {
     "data": {
      "text/plain": "  0%|          | 0/1380 [00:00<?, ?it/s]",
      "application/vnd.jupyter.widget-view+json": {
       "version_major": 2,
       "version_minor": 0,
       "model_id": "9595974661e84bac9216651cc1ad6f4c"
      }
     },
     "metadata": {},
     "output_type": "display_data"
    },
    {
     "data": {
      "text/plain": "<Figure size 1080x504 with 1 Axes>",
      "image/png": "[encoded data removed]"
     },
     "metadata": {},
     "output_type": "display_data"
    }
   ],
   "source": [
    "plot_ner_dataset_lengths()"
   ],
   "metadata": {
    "collapsed": false,
    "pycharm": {
     "name": "#%%\n"
    }
   }
  },
  {
   "cell_type": "code",
   "execution_count": 10,
   "outputs": [],
   "source": [],
   "metadata": {
    "collapsed": false,
    "pycharm": {
     "name": "#%%\n"
    }
   }
  }
 ],
 "metadata": {
  "kernelspec": {
   "display_name": "Python 3",
   "language": "python",
   "name": "python3"
  },
  "language_info": {
   "codemirror_mode": {
    "name": "ipython",
    "version": 2
   },
   "file_extension": ".py",
   "mimetype": "text/x-python",
   "name": "python",
   "nbconvert_exporter": "python",
   "pygments_lexer": "ipython2",
   "version": "2.7.6"
  }
 },
 "nbformat": 4,
 "nbformat_minor": 0
}